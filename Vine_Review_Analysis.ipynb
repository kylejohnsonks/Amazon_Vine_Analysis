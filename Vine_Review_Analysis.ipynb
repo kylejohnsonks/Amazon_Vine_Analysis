{
  "nbformat": 4,
  "nbformat_minor": 0,
  "metadata": {
    "colab": {
      "name": "Vine_Review_Analysis.ipynb",
      "provenance": [],
      "collapsed_sections": []
    },
    "kernelspec": {
      "name": "python3",
      "display_name": "Python 3"
    },
    "language_info": {
      "name": "python"
    }
  },
  "cells": [
    {
      "cell_type": "code",
      "execution_count": 1,
      "metadata": {
        "colab": {
          "base_uri": "https://localhost:8080/"
        },
        "id": "WMcMkWsxtz5B",
        "outputId": "eeb83aec-a7d5-422d-bbfc-381417581ce6"
      },
      "outputs": [
        {
          "output_type": "stream",
          "name": "stdout",
          "text": [
            "\r0% [Working]\r            \rIgn:1 https://developer.download.nvidia.com/compute/cuda/repos/ubuntu1804/x86_64  InRelease\n",
            "\r0% [Connecting to archive.ubuntu.com] [Connecting to security.ubuntu.com] [Conn\r                                                                               \rIgn:2 https://developer.download.nvidia.com/compute/machine-learning/repos/ubuntu1804/x86_64  InRelease\n",
            "\r0% [Connecting to archive.ubuntu.com (91.189.88.152)] [Connecting to security.u\r                                                                               \rGet:3 https://developer.download.nvidia.com/compute/cuda/repos/ubuntu1804/x86_64  Release [696 B]\n",
            "Hit:4 https://developer.download.nvidia.com/compute/machine-learning/repos/ubuntu1804/x86_64  Release\n",
            "Get:5 https://developer.download.nvidia.com/compute/cuda/repos/ubuntu1804/x86_64  Release.gpg [836 B]\n",
            "Get:6 http://ppa.launchpad.net/c2d4u.team/c2d4u4.0+/ubuntu bionic InRelease [15.9 kB]\n",
            "Get:7 http://security.ubuntu.com/ubuntu bionic-security InRelease [88.7 kB]\n",
            "Hit:8 http://archive.ubuntu.com/ubuntu bionic InRelease\n",
            "Get:10 http://archive.ubuntu.com/ubuntu bionic-updates InRelease [88.7 kB]\n",
            "Get:11 https://cloud.r-project.org/bin/linux/ubuntu bionic-cran40/ InRelease [3,626 B]\n",
            "Get:12 https://developer.download.nvidia.com/compute/cuda/repos/ubuntu1804/x86_64  Packages [917 kB]\n",
            "Hit:13 http://ppa.launchpad.net/cran/libgit2/ubuntu bionic InRelease\n",
            "Get:14 http://ppa.launchpad.net/deadsnakes/ppa/ubuntu bionic InRelease [15.9 kB]\n",
            "Get:15 http://archive.ubuntu.com/ubuntu bionic-backports InRelease [74.6 kB]\n",
            "Get:16 http://ppa.launchpad.net/graphics-drivers/ppa/ubuntu bionic InRelease [21.3 kB]\n",
            "Get:17 http://security.ubuntu.com/ubuntu bionic-security/main amd64 Packages [2,564 kB]\n",
            "Get:18 http://ppa.launchpad.net/c2d4u.team/c2d4u4.0+/ubuntu bionic/main Sources [1,826 kB]\n",
            "Get:19 http://security.ubuntu.com/ubuntu bionic-security/universe amd64 Packages [1,470 kB]\n",
            "Get:20 http://security.ubuntu.com/ubuntu bionic-security/restricted amd64 Packages [783 kB]\n",
            "Get:21 http://security.ubuntu.com/ubuntu bionic-security/multiverse amd64 Packages [21.1 kB]\n",
            "Get:22 http://ppa.launchpad.net/c2d4u.team/c2d4u4.0+/ubuntu bionic/main amd64 Packages [936 kB]\n",
            "Get:23 http://archive.ubuntu.com/ubuntu bionic-updates/universe amd64 Packages [2,248 kB]\n",
            "Get:24 http://archive.ubuntu.com/ubuntu bionic-updates/multiverse amd64 Packages [29.0 kB]\n",
            "Get:25 http://archive.ubuntu.com/ubuntu bionic-updates/main amd64 Packages [3,004 kB]\n",
            "Get:26 http://archive.ubuntu.com/ubuntu bionic-updates/restricted amd64 Packages [816 kB]\n",
            "Get:27 http://ppa.launchpad.net/deadsnakes/ppa/ubuntu bionic/main amd64 Packages [45.3 kB]\n",
            "Get:28 http://ppa.launchpad.net/graphics-drivers/ppa/ubuntu bionic/main amd64 Packages [42.8 kB]\n",
            "Fetched 15.0 MB in 7s (2,141 kB/s)\n",
            "Reading package lists... Done\n"
          ]
        }
      ],
      "source": [
        "import os\n",
        "# Find the latest version of spark 3.0  from http://www.apache.org/dist/spark/ and enter as the spark version\n",
        "spark_version = 'spark-3.2.1'\n",
        "os.environ['SPARK_VERSION']=spark_version\n",
        "\n",
        "# Install Spark and Java\n",
        "!apt-get update\n",
        "!apt-get install openjdk-11-jdk-headless -qq > /dev/null\n",
        "!wget -q http://www.apache.org/dist/spark/$SPARK_VERSION/$SPARK_VERSION-bin-hadoop2.7.tgz\n",
        "!tar xf $SPARK_VERSION-bin-hadoop2.7.tgz\n",
        "!pip install -q findspark\n",
        "\n",
        "# Set Environment Variables\n",
        "import os\n",
        "os.environ[\"JAVA_HOME\"] = \"/usr/lib/jvm/java-11-openjdk-amd64\"\n",
        "os.environ[\"SPARK_HOME\"] = f\"/content/{spark_version}-bin-hadoop2.7\"\n",
        "\n",
        "# Start a SparkSession\n",
        "import findspark\n",
        "findspark.init()"
      ]
    },
    {
      "cell_type": "code",
      "source": [
        "# Start Spark session\n",
        "from pyspark.sql import SparkSession\n",
        "spark = SparkSession.builder.appName(\"VineBias\").getOrCreate()"
      ],
      "metadata": {
        "id": "RJ_04ArzxEd-"
      },
      "execution_count": 4,
      "outputs": []
    },
    {
      "cell_type": "code",
      "source": [
        "#extract dataset and load to df\n",
        "from pyspark import SparkFiles\n",
        "url = \"https://s3.amazonaws.com/amazon-reviews-pds/tsv/amazon_reviews_us_Pet_Products_v1_00.tsv.gz\"\n",
        "spark.sparkContext.addFile(url)\n",
        "df = spark.read.option(\"encoding\", \"UTF-8\").csv(SparkFiles.get(\"\"), sep=\"\\t\", header=True, inferSchema=True)\n",
        "\n",
        "# Create the vine_table. DataFrame\n",
        "vine_df = df.select(['review_id','star_rating','helpful_votes','total_votes','vine','verified_purchase'])\n",
        "vine_df.show(10)"
      ],
      "metadata": {
        "colab": {
          "base_uri": "https://localhost:8080/"
        },
        "id": "ER3cOn52wZrc",
        "outputId": "a3b87554-7c39-464b-ae70-fa2498336669"
      },
      "execution_count": 7,
      "outputs": [
        {
          "output_type": "stream",
          "name": "stdout",
          "text": [
            "+--------------+-----------+-------------+-----------+----+-----------------+\n",
            "|     review_id|star_rating|helpful_votes|total_votes|vine|verified_purchase|\n",
            "+--------------+-----------+-------------+-----------+----+-----------------+\n",
            "| REAKC26P07MDN|          5|            0|          0|   N|                Y|\n",
            "|R3NU7OMZ4HQIEG|          2|            0|          1|   N|                Y|\n",
            "|R14QJW3XF8QO1P|          5|            0|          0|   N|                Y|\n",
            "|R2HB7AX0394ZGY|          5|            0|          0|   N|                Y|\n",
            "| RGKMPDQGSAHR3|          5|            0|          0|   N|                Y|\n",
            "|R1DJCVPQGCV66E|          5|            0|          0|   N|                Y|\n",
            "|R3V52EAWLPBFQG|          3|            0|          0|   N|                Y|\n",
            "|R3DKO8J1J28QBI|          2|            0|          0|   N|                Y|\n",
            "| R764DBXGRNECG|          5|            1|          1|   N|                N|\n",
            "| RW1853GAT0Z9F|          5|            0|          0|   N|                Y|\n",
            "+--------------+-----------+-------------+-----------+----+-----------------+\n",
            "only showing top 10 rows\n",
            "\n"
          ]
        }
      ]
    },
    {
      "cell_type": "code",
      "source": [
        "# 1. Filter the data and create a new DataFrame or table to retrieve all the rows where the total_votes count is equal to or greater than 20\n",
        "filtered_df=vine_df.filter(vine_df.total_votes>=20)\n",
        "filtered_df.show(10)"
      ],
      "metadata": {
        "colab": {
          "base_uri": "https://localhost:8080/"
        },
        "id": "UbBtM6BxwZtw",
        "outputId": "8b7a7bd5-f5a4-4da1-d1a9-42ec4567d95d"
      },
      "execution_count": 8,
      "outputs": [
        {
          "output_type": "stream",
          "name": "stdout",
          "text": [
            "+--------------+-----------+-------------+-----------+----+-----------------+\n",
            "|     review_id|star_rating|helpful_votes|total_votes|vine|verified_purchase|\n",
            "+--------------+-----------+-------------+-----------+----+-----------------+\n",
            "|R21KC552Y6HL8X|          1|           27|         31|   N|                Y|\n",
            "| RX9WC9FTIR1XR|          5|           25|         25|   N|                Y|\n",
            "| RGDCOU1KBHMNG|          3|           29|         31|   N|                Y|\n",
            "| RVTYWID2TPMMY|          2|           35|         42|   N|                Y|\n",
            "|R2CMPZ5VESGRLY|          4|           27|         28|   N|                Y|\n",
            "|R3VQPJZ54B55BA|          5|           62|         64|   N|                N|\n",
            "|R24QM6D7FEDZ5M|          2|           36|         43|   N|                Y|\n",
            "|R3A1VQ3SQDXEJ3|          5|           20|         20|   N|                Y|\n",
            "|  R39GSNW76GYF|          1|           20|         23|   N|                Y|\n",
            "| RPJLR6MFDPXXE|          5|           35|         36|   N|                Y|\n",
            "+--------------+-----------+-------------+-----------+----+-----------------+\n",
            "only showing top 10 rows\n",
            "\n"
          ]
        }
      ]
    },
    {
      "cell_type": "code",
      "source": [
        "# Filter the new DataFrame or table created in Step 1 and create a new DataFrame or table to retrieve all the rows where \n",
        "# the number of helpful_votes divided by total_votes is equal to or greater than 50%.\n",
        "helpful_df=filtered_df.filter(\"helpful_votes/total_votes>.5\")\n",
        "helpful_df.show(10)"
      ],
      "metadata": {
        "colab": {
          "base_uri": "https://localhost:8080/"
        },
        "id": "IulrBcTdwZwR",
        "outputId": "f8ac8e79-24b1-4c93-93a5-cf6bb5ab6c5b"
      },
      "execution_count": 12,
      "outputs": [
        {
          "output_type": "stream",
          "name": "stdout",
          "text": [
            "+--------------+-----------+-------------+-----------+----+-----------------+\n",
            "|     review_id|star_rating|helpful_votes|total_votes|vine|verified_purchase|\n",
            "+--------------+-----------+-------------+-----------+----+-----------------+\n",
            "|R21KC552Y6HL8X|          1|           27|         31|   N|                Y|\n",
            "| RX9WC9FTIR1XR|          5|           25|         25|   N|                Y|\n",
            "| RGDCOU1KBHMNG|          3|           29|         31|   N|                Y|\n",
            "| RVTYWID2TPMMY|          2|           35|         42|   N|                Y|\n",
            "|R2CMPZ5VESGRLY|          4|           27|         28|   N|                Y|\n",
            "|R3VQPJZ54B55BA|          5|           62|         64|   N|                N|\n",
            "|R24QM6D7FEDZ5M|          2|           36|         43|   N|                Y|\n",
            "|R3A1VQ3SQDXEJ3|          5|           20|         20|   N|                Y|\n",
            "|  R39GSNW76GYF|          1|           20|         23|   N|                Y|\n",
            "| RPJLR6MFDPXXE|          5|           35|         36|   N|                Y|\n",
            "+--------------+-----------+-------------+-----------+----+-----------------+\n",
            "only showing top 10 rows\n",
            "\n"
          ]
        }
      ]
    },
    {
      "cell_type": "code",
      "source": [
        "#Filter the DataFrame or table created in Step 2, and create a new DataFrame or table that retrieves all the rows where \n",
        "#a review was written as part of the Vine program (paid), vine == 'Y'.\n",
        "vine_helpful_df=helpful_df.filter(helpful_df.vine==\"Y\")\n",
        "vine_helpful_df.show(10)"
      ],
      "metadata": {
        "colab": {
          "base_uri": "https://localhost:8080/"
        },
        "id": "vc2DZZaJwZyi",
        "outputId": "1c556e0a-f187-4f2d-f667-8bdf0b2363a4"
      },
      "execution_count": 14,
      "outputs": [
        {
          "output_type": "stream",
          "name": "stdout",
          "text": [
            "+--------------+-----------+-------------+-----------+----+-----------------+\n",
            "|     review_id|star_rating|helpful_votes|total_votes|vine|verified_purchase|\n",
            "+--------------+-----------+-------------+-----------+----+-----------------+\n",
            "|R3A71VR1JZD8WF|          2|           27|         30|   Y|                N|\n",
            "|R16OMUJIGI18JZ|          5|           72|         72|   Y|                N|\n",
            "|R3TS8ZP2FHQ9XR|          5|           39|         42|   Y|                N|\n",
            "|R2MHP919VZN7DI|          5|           29|         30|   Y|                N|\n",
            "| RD2BCTVS59A5L|          2|           20|         20|   Y|                N|\n",
            "|R1JUJLXQ2CMWKF|          4|           25|         26|   Y|                N|\n",
            "|R2T7YE0IFI6N9L|          3|           24|         25|   Y|                N|\n",
            "|R25FI3J7WWOYXM|          3|           55|         58|   Y|                N|\n",
            "|R3P3U4EOWIUD50|          3|           27|         36|   Y|                N|\n",
            "|R3C7MKX7MO6XUC|          5|          216|        219|   Y|                N|\n",
            "+--------------+-----------+-------------+-----------+----+-----------------+\n",
            "only showing top 10 rows\n",
            "\n"
          ]
        }
      ]
    },
    {
      "cell_type": "code",
      "source": [
        "# Repeat Step 3, but this time retrieve all the rows where the review was not part of the Vine program (unpaid), vine == 'N'.\n",
        "notVine_helpful_df=helpful_df.filter(helpful_df.vine==\"N\")\n",
        "notVine_helpful_df.show(10)"
      ],
      "metadata": {
        "colab": {
          "base_uri": "https://localhost:8080/"
        },
        "id": "r9noqpHAwZ0w",
        "outputId": "bc25e131-bcde-43b6-db80-9c32303b6e46"
      },
      "execution_count": 15,
      "outputs": [
        {
          "output_type": "stream",
          "name": "stdout",
          "text": [
            "+--------------+-----------+-------------+-----------+----+-----------------+\n",
            "|     review_id|star_rating|helpful_votes|total_votes|vine|verified_purchase|\n",
            "+--------------+-----------+-------------+-----------+----+-----------------+\n",
            "|R21KC552Y6HL8X|          1|           27|         31|   N|                Y|\n",
            "| RX9WC9FTIR1XR|          5|           25|         25|   N|                Y|\n",
            "| RGDCOU1KBHMNG|          3|           29|         31|   N|                Y|\n",
            "| RVTYWID2TPMMY|          2|           35|         42|   N|                Y|\n",
            "|R2CMPZ5VESGRLY|          4|           27|         28|   N|                Y|\n",
            "|R3VQPJZ54B55BA|          5|           62|         64|   N|                N|\n",
            "|R24QM6D7FEDZ5M|          2|           36|         43|   N|                Y|\n",
            "|R3A1VQ3SQDXEJ3|          5|           20|         20|   N|                Y|\n",
            "|  R39GSNW76GYF|          1|           20|         23|   N|                Y|\n",
            "| RPJLR6MFDPXXE|          5|           35|         36|   N|                Y|\n",
            "+--------------+-----------+-------------+-----------+----+-----------------+\n",
            "only showing top 10 rows\n",
            "\n"
          ]
        }
      ]
    },
    {
      "cell_type": "code",
      "source": [
        "# Determine the total number of reviews, the number of 5-star reviews, and the percentage of 5-star reviews for the two types of review (paid vs unpaid).\n",
        "paidInfo=(\"paid\",vine_helpful_df.count(),vine_helpful_df.filter(\"star_rating ==5\").count(),vine_helpful_df.filter(\"star_rating ==5\").count()/vine_helpful_df.count())\n",
        "paidInfo"
      ],
      "metadata": {
        "colab": {
          "base_uri": "https://localhost:8080/"
        },
        "id": "HQ-bpSPowZ3D",
        "outputId": "2f7dd40a-68c6-4351-8002-f87df39e4e37"
      },
      "execution_count": 28,
      "outputs": [
        {
          "output_type": "execute_result",
          "data": {
            "text/plain": [
              "('paid', 170, 65, 0.38235294117647056)"
            ]
          },
          "metadata": {},
          "execution_count": 28
        }
      ]
    },
    {
      "cell_type": "code",
      "source": [
        "unpaidInfo=(\"unpaid\",notVine_helpful_df.count(),notVine_helpful_df.filter(\"star_rating==5\").count(),notVine_helpful_df.filter(\"star_rating==5\").count()/notVine_helpful_df.count())\n",
        "unpaidInfo"
      ],
      "metadata": {
        "colab": {
          "base_uri": "https://localhost:8080/"
        },
        "id": "tkyQ8NhnAfON",
        "outputId": "8931368d-e717-4fa6-ffeb-b46d206279d9"
      },
      "execution_count": 30,
      "outputs": [
        {
          "output_type": "execute_result",
          "data": {
            "text/plain": [
              "('unpaid', 37790, 20605, 0.5452500661550674)"
            ]
          },
          "metadata": {},
          "execution_count": 30
        }
      ]
    },
    {
      "cell_type": "code",
      "source": [
        "comparison_df=spark.createDataFrame([paidInfo,unpaidInfo],schema=(\"Type\",\"Total_Reviews\",\"5-star_Reviews\",\"5-star_pct\"))\n",
        "comparison_df.show()"
      ],
      "metadata": {
        "colab": {
          "base_uri": "https://localhost:8080/"
        },
        "id": "q6H3GM3H5Pt0",
        "outputId": "dd97d4a7-a79a-4e58-fb21-f924526c766a"
      },
      "execution_count": 32,
      "outputs": [
        {
          "output_type": "stream",
          "name": "stdout",
          "text": [
            "+------+-------------+--------------+-------------------+\n",
            "|  Type|Total_Reviews|5-star_Reviews|         5-star_pct|\n",
            "+------+-------------+--------------+-------------------+\n",
            "|  paid|          170|            65|0.38235294117647056|\n",
            "|unpaid|        37790|         20605| 0.5452500661550674|\n",
            "+------+-------------+--------------+-------------------+\n",
            "\n"
          ]
        }
      ]
    },
    {
      "cell_type": "code",
      "source": [
        ""
      ],
      "metadata": {
        "id": "L8r4kSLtAecy"
      },
      "execution_count": null,
      "outputs": []
    },
    {
      "cell_type": "code",
      "source": [
        ""
      ],
      "metadata": {
        "id": "DGALbYLC5V6N"
      },
      "execution_count": null,
      "outputs": []
    }
  ]
}